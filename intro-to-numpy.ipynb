{
 "cells": [
  {
   "cell_type": "code",
   "execution_count": 1,
   "id": "fc5fef47-0da0-46d9-bb6c-737f06db0658",
   "metadata": {},
   "outputs": [],
   "source": [
    "import numpy as np"
   ]
  },
  {
   "cell_type": "code",
   "execution_count": 2,
   "id": "11894e20-9981-4a18-9b76-263d4bebd99f",
   "metadata": {},
   "outputs": [],
   "source": [
    "a1=np.array([1,2,3])"
   ]
  },
  {
   "cell_type": "code",
   "execution_count": 3,
   "id": "36a2ffa2-d03c-44d7-a738-86ff513a6391",
   "metadata": {},
   "outputs": [
    {
     "data": {
      "text/plain": [
       "array([1, 2, 3])"
      ]
     },
     "execution_count": 3,
     "metadata": {},
     "output_type": "execute_result"
    }
   ],
   "source": [
    "a1"
   ]
  },
  {
   "cell_type": "code",
   "execution_count": 4,
   "id": "9fc4bd44-7eaf-4581-9e62-d6d77a7f4980",
   "metadata": {},
   "outputs": [],
   "source": [
    "a2=np.array([[1,2,3],[10,20,30]])"
   ]
  },
  {
   "cell_type": "code",
   "execution_count": 5,
   "id": "6d44d1ac-00af-4648-91b1-7e0a85562ed1",
   "metadata": {},
   "outputs": [
    {
     "data": {
      "text/plain": [
       "array([[ 1,  2,  3],\n",
       "       [10, 20, 30]])"
      ]
     },
     "execution_count": 5,
     "metadata": {},
     "output_type": "execute_result"
    }
   ],
   "source": [
    "a2"
   ]
  },
  {
   "cell_type": "code",
   "execution_count": 6,
   "id": "ced2dca3-ea37-4092-9ebb-e2516cf76c95",
   "metadata": {},
   "outputs": [],
   "source": [
    "a3=np.array([[[1,2,3],[2,3,4]],[[3,4,5],[4,5,6]]])"
   ]
  },
  {
   "cell_type": "code",
   "execution_count": 7,
   "id": "74a61be5-d110-428a-bb33-a90a60e495d6",
   "metadata": {},
   "outputs": [
    {
     "data": {
      "text/plain": [
       "array([[[1, 2, 3],\n",
       "        [2, 3, 4]],\n",
       "\n",
       "       [[3, 4, 5],\n",
       "        [4, 5, 6]]])"
      ]
     },
     "execution_count": 7,
     "metadata": {},
     "output_type": "execute_result"
    }
   ],
   "source": [
    "a3"
   ]
  },
  {
   "cell_type": "code",
   "execution_count": 8,
   "id": "ef5b9bbf-6781-4747-8627-2c97423f5bef",
   "metadata": {},
   "outputs": [
    {
     "data": {
      "text/plain": [
       "12"
      ]
     },
     "execution_count": 8,
     "metadata": {},
     "output_type": "execute_result"
    }
   ],
   "source": [
    "a3.size"
   ]
  },
  {
   "cell_type": "code",
   "execution_count": 9,
   "id": "147d78df-0495-4981-a750-45b19af82c3e",
   "metadata": {},
   "outputs": [
    {
     "data": {
      "text/plain": [
       "(2, 2, 3)"
      ]
     },
     "execution_count": 9,
     "metadata": {},
     "output_type": "execute_result"
    }
   ],
   "source": [
    "a3.shape"
   ]
  },
  {
   "cell_type": "code",
   "execution_count": 10,
   "id": "dd881c00-791a-475f-a9c9-dbea6144efaf",
   "metadata": {},
   "outputs": [
    {
     "data": {
      "text/plain": [
       "(1, 2, 3)"
      ]
     },
     "execution_count": 10,
     "metadata": {},
     "output_type": "execute_result"
    }
   ],
   "source": [
    "a1.ndim, a2.ndim, a3.ndim"
   ]
  },
  {
   "cell_type": "code",
   "execution_count": 11,
   "id": "67f4ce31-7262-46a3-9bab-189a3585283c",
   "metadata": {},
   "outputs": [
    {
     "data": {
      "text/plain": [
       "dtype('int32')"
      ]
     },
     "execution_count": 11,
     "metadata": {},
     "output_type": "execute_result"
    }
   ],
   "source": [
    "a3.dtype"
   ]
  },
  {
   "cell_type": "code",
   "execution_count": 12,
   "id": "e583fdd2-0349-483f-997e-09b16b80aefb",
   "metadata": {},
   "outputs": [
    {
     "data": {
      "text/plain": [
       "(numpy.ndarray, numpy.ndarray, numpy.ndarray)"
      ]
     },
     "execution_count": 12,
     "metadata": {},
     "output_type": "execute_result"
    }
   ],
   "source": [
    "type(a1), type(a2), type(a3)"
   ]
  },
  {
   "cell_type": "markdown",
   "id": "cb0bc717-d02c-4542-9b15-2d58f2c9f87c",
   "metadata": {},
   "source": [
    "# creating dataframe"
   ]
  },
  {
   "cell_type": "code",
   "execution_count": 13,
   "id": "dd2c8745-cbaf-46c9-9825-a9d1d9518061",
   "metadata": {},
   "outputs": [],
   "source": [
    "import pandas as pd"
   ]
  },
  {
   "cell_type": "code",
   "execution_count": 14,
   "id": "24128b80-fe4e-4765-9552-c9e505294923",
   "metadata": {},
   "outputs": [],
   "source": [
    "df = pd.DataFrame(a2)"
   ]
  },
  {
   "cell_type": "code",
   "execution_count": 15,
   "id": "1de2963a-c725-4fa5-afc5-f2306db48536",
   "metadata": {},
   "outputs": [
    {
     "data": {
      "text/html": [
       "<div>\n",
       "<style scoped>\n",
       "    .dataframe tbody tr th:only-of-type {\n",
       "        vertical-align: middle;\n",
       "    }\n",
       "\n",
       "    .dataframe tbody tr th {\n",
       "        vertical-align: top;\n",
       "    }\n",
       "\n",
       "    .dataframe thead th {\n",
       "        text-align: right;\n",
       "    }\n",
       "</style>\n",
       "<table border=\"1\" class=\"dataframe\">\n",
       "  <thead>\n",
       "    <tr style=\"text-align: right;\">\n",
       "      <th></th>\n",
       "      <th>0</th>\n",
       "      <th>1</th>\n",
       "      <th>2</th>\n",
       "    </tr>\n",
       "  </thead>\n",
       "  <tbody>\n",
       "    <tr>\n",
       "      <th>0</th>\n",
       "      <td>1</td>\n",
       "      <td>2</td>\n",
       "      <td>3</td>\n",
       "    </tr>\n",
       "    <tr>\n",
       "      <th>1</th>\n",
       "      <td>10</td>\n",
       "      <td>20</td>\n",
       "      <td>30</td>\n",
       "    </tr>\n",
       "  </tbody>\n",
       "</table>\n",
       "</div>"
      ],
      "text/plain": [
       "    0   1   2\n",
       "0   1   2   3\n",
       "1  10  20  30"
      ]
     },
     "execution_count": 15,
     "metadata": {},
     "output_type": "execute_result"
    }
   ],
   "source": [
    "df"
   ]
  },
  {
   "cell_type": "code",
   "execution_count": 16,
   "id": "4c9c1765-082b-411e-9ee8-e8dc3704b131",
   "metadata": {},
   "outputs": [],
   "source": [
    "ones=np.ones((2,3),int)"
   ]
  },
  {
   "cell_type": "code",
   "execution_count": 17,
   "id": "1d62ff43-bca1-4424-93c0-b2f2faa03866",
   "metadata": {},
   "outputs": [
    {
     "data": {
      "text/plain": [
       "array([[1, 1, 1],\n",
       "       [1, 1, 1]])"
      ]
     },
     "execution_count": 17,
     "metadata": {},
     "output_type": "execute_result"
    }
   ],
   "source": [
    "ones"
   ]
  },
  {
   "cell_type": "code",
   "execution_count": 18,
   "id": "549de4ba-4283-4844-a918-5a99ed88a497",
   "metadata": {},
   "outputs": [
    {
     "data": {
      "text/plain": [
       "dtype('int32')"
      ]
     },
     "execution_count": 18,
     "metadata": {},
     "output_type": "execute_result"
    }
   ],
   "source": [
    "ones.dtype"
   ]
  },
  {
   "cell_type": "code",
   "execution_count": 19,
   "id": "57fd6507-5c61-4322-aad0-de978fe52802",
   "metadata": {},
   "outputs": [],
   "source": [
    "zeros=np.zeros((4,5),int)"
   ]
  },
  {
   "cell_type": "code",
   "execution_count": 20,
   "id": "7fea34ee-612d-4a45-a33c-0bfa73a0465d",
   "metadata": {},
   "outputs": [
    {
     "data": {
      "text/plain": [
       "array([[0, 0, 0, 0, 0],\n",
       "       [0, 0, 0, 0, 0],\n",
       "       [0, 0, 0, 0, 0],\n",
       "       [0, 0, 0, 0, 0]])"
      ]
     },
     "execution_count": 20,
     "metadata": {},
     "output_type": "execute_result"
    }
   ],
   "source": [
    "zeros"
   ]
  },
  {
   "cell_type": "code",
   "execution_count": 21,
   "id": "6d0dd6a2-be5b-4356-bbaa-ffec0db94d9a",
   "metadata": {},
   "outputs": [
    {
     "data": {
      "text/plain": [
       "dtype('int32')"
      ]
     },
     "execution_count": 21,
     "metadata": {},
     "output_type": "execute_result"
    }
   ],
   "source": [
    "zeros.dtype"
   ]
  },
  {
   "cell_type": "code",
   "execution_count": 22,
   "id": "eee8333b-fb28-44c1-a395-1910e09e42ba",
   "metadata": {},
   "outputs": [
    {
     "data": {
      "text/plain": [
       "numpy.ndarray"
      ]
     },
     "execution_count": 22,
     "metadata": {},
     "output_type": "execute_result"
    }
   ],
   "source": [
    "type(zeros)"
   ]
  },
  {
   "cell_type": "code",
   "execution_count": 23,
   "id": "6d3b7862-25e8-45df-b3be-de4421d6b375",
   "metadata": {},
   "outputs": [],
   "source": [
    "range=np.arange(0,10,2)"
   ]
  },
  {
   "cell_type": "code",
   "execution_count": 24,
   "id": "fded5cb4-9c3b-4b4a-82b8-8eda85933db9",
   "metadata": {},
   "outputs": [
    {
     "data": {
      "text/plain": [
       "array([0, 2, 4, 6, 8])"
      ]
     },
     "execution_count": 24,
     "metadata": {},
     "output_type": "execute_result"
    }
   ],
   "source": [
    "range"
   ]
  },
  {
   "cell_type": "code",
   "execution_count": 25,
   "id": "b5b2bd13-183d-4783-a34c-00964128ce0c",
   "metadata": {},
   "outputs": [],
   "source": [
    "np.random.seed(7)\n",
    "ar = np.random.random((5,3))"
   ]
  },
  {
   "cell_type": "code",
   "execution_count": 26,
   "id": "e602a28f-1b5b-45ae-ac6e-3793bb2f8e9d",
   "metadata": {},
   "outputs": [
    {
     "data": {
      "text/plain": [
       "array([[0.07630829, 0.77991879, 0.43840923],\n",
       "       [0.72346518, 0.97798951, 0.53849587],\n",
       "       [0.50112046, 0.07205113, 0.26843898],\n",
       "       [0.4998825 , 0.67923   , 0.80373904],\n",
       "       [0.38094113, 0.06593635, 0.2881456 ]])"
      ]
     },
     "execution_count": 26,
     "metadata": {},
     "output_type": "execute_result"
    }
   ],
   "source": [
    "ar"
   ]
  },
  {
   "cell_type": "code",
   "execution_count": 27,
   "id": "ce97c58b-f12e-4393-9642-10775a243e30",
   "metadata": {},
   "outputs": [],
   "source": [
    "ar=np.random.random((5,3))"
   ]
  },
  {
   "cell_type": "code",
   "execution_count": 28,
   "id": "d4402a2d-08a6-417c-b18a-f81771336266",
   "metadata": {},
   "outputs": [
    {
     "data": {
      "text/plain": [
       "array([[0.90959353, 0.21338535, 0.45212396],\n",
       "       [0.93120602, 0.02489923, 0.60054892],\n",
       "       [0.9501295 , 0.23030288, 0.54848992],\n",
       "       [0.90912837, 0.13316945, 0.52341258],\n",
       "       [0.75040986, 0.66901324, 0.46775286]])"
      ]
     },
     "execution_count": 28,
     "metadata": {},
     "output_type": "execute_result"
    }
   ],
   "source": [
    "ar"
   ]
  },
  {
   "cell_type": "code",
   "execution_count": 29,
   "id": "e20c8af5-39e2-4dcf-829b-1b2f2080326b",
   "metadata": {},
   "outputs": [],
   "source": [
    "ar1=np.random.randint(10, size=(2,4,6))"
   ]
  },
  {
   "cell_type": "code",
   "execution_count": 30,
   "id": "706ca400-b1ce-4819-9dcb-f407e1469909",
   "metadata": {},
   "outputs": [
    {
     "data": {
      "text/plain": [
       "array([[[6, 7, 7, 9, 3, 0],\n",
       "        [7, 7, 7, 0, 5, 4],\n",
       "        [3, 1, 3, 1, 3, 4],\n",
       "        [3, 1, 9, 5, 9, 1]],\n",
       "\n",
       "       [[2, 3, 2, 2, 5, 7],\n",
       "        [3, 0, 9, 9, 3, 4],\n",
       "        [5, 3, 0, 4, 8, 6],\n",
       "        [7, 2, 7, 3, 8, 6]]])"
      ]
     },
     "execution_count": 30,
     "metadata": {},
     "output_type": "execute_result"
    }
   ],
   "source": [
    "ar1"
   ]
  },
  {
   "cell_type": "code",
   "execution_count": 31,
   "id": "31971bb2-6b0c-4d97-a089-2b45c7bc1be8",
   "metadata": {},
   "outputs": [
    {
     "data": {
      "text/plain": [
       "(2, 4, 6)"
      ]
     },
     "execution_count": 31,
     "metadata": {},
     "output_type": "execute_result"
    }
   ],
   "source": [
    "ar1.shape"
   ]
  },
  {
   "cell_type": "code",
   "execution_count": 32,
   "id": "26a8e0aa-8957-4022-8d9a-1b4321f237c0",
   "metadata": {},
   "outputs": [
    {
     "data": {
      "text/plain": [
       "3"
      ]
     },
     "execution_count": 32,
     "metadata": {},
     "output_type": "execute_result"
    }
   ],
   "source": [
    "ar1.ndim"
   ]
  },
  {
   "cell_type": "code",
   "execution_count": 33,
   "id": "f2a83757-fce8-4480-93b2-fb122b0e228f",
   "metadata": {},
   "outputs": [
    {
     "data": {
      "text/plain": [
       "array([[[6, 7, 7, 9, 3, 0],\n",
       "        [7, 7, 7, 0, 5, 4],\n",
       "        [3, 1, 3, 1, 3, 4],\n",
       "        [3, 1, 9, 5, 9, 1]],\n",
       "\n",
       "       [[2, 3, 2, 2, 5, 7],\n",
       "        [3, 0, 9, 9, 3, 4],\n",
       "        [5, 3, 0, 4, 8, 6],\n",
       "        [7, 2, 7, 3, 8, 6]]])"
      ]
     },
     "execution_count": 33,
     "metadata": {},
     "output_type": "execute_result"
    }
   ],
   "source": [
    "ar1"
   ]
  },
  {
   "cell_type": "code",
   "execution_count": 34,
   "id": "c9784059-ee1a-4d36-ad88-ce04aca78e0c",
   "metadata": {},
   "outputs": [
    {
     "data": {
      "text/plain": [
       "array([[[[38, 70, 21, 44, 91],\n",
       "         [ 7, 81, 69, 52, 41],\n",
       "         [29, 26, 64, 62, 86],\n",
       "         [98, 12,  6, 34, 59]],\n",
       "\n",
       "        [[93, 17,  5, 79, 49],\n",
       "         [54, 76, 92, 54, 47],\n",
       "         [37, 73, 87, 21,  4],\n",
       "         [91, 76, 75,  6, 97]]],\n",
       "\n",
       "\n",
       "       [[[85, 85, 30, 92, 56],\n",
       "         [51, 55, 12, 76, 36],\n",
       "         [71, 85, 58, 41, 15],\n",
       "         [43, 59, 82, 63, 28]],\n",
       "\n",
       "        [[16,  5, 35, 77, 32],\n",
       "         [87, 95, 33, 45, 40],\n",
       "         [91, 14, 45, 42, 96],\n",
       "         [34, 95, 55, 18,  9]]],\n",
       "\n",
       "\n",
       "       [[[73, 13, 85, 43,  1],\n",
       "         [31, 14, 80, 48, 25],\n",
       "         [33, 85, 83, 82, 64],\n",
       "         [77, 58, 10, 52, 27]],\n",
       "\n",
       "        [[28,  8, 97, 89, 44],\n",
       "         [51, 54, 42, 92,  7],\n",
       "         [15,  0, 82, 48, 64],\n",
       "         [44,  9, 46, 56, 98]]]])"
      ]
     },
     "execution_count": 34,
     "metadata": {},
     "output_type": "execute_result"
    }
   ],
   "source": [
    "ar2 = np.random.randint(100, size=(3,2,4,5))\n",
    "ar2"
   ]
  },
  {
   "cell_type": "code",
   "execution_count": 35,
   "id": "5cb34aa4-26b8-4edd-ac75-925aa911c233",
   "metadata": {},
   "outputs": [
    {
     "data": {
      "text/plain": [
       "array([[[[38, 70, 21, 44],\n",
       "         [ 7, 81, 69, 52],\n",
       "         [29, 26, 64, 62],\n",
       "         [98, 12,  6, 34]],\n",
       "\n",
       "        [[93, 17,  5, 79],\n",
       "         [54, 76, 92, 54],\n",
       "         [37, 73, 87, 21],\n",
       "         [91, 76, 75,  6]]],\n",
       "\n",
       "\n",
       "       [[[85, 85, 30, 92],\n",
       "         [51, 55, 12, 76],\n",
       "         [71, 85, 58, 41],\n",
       "         [43, 59, 82, 63]],\n",
       "\n",
       "        [[16,  5, 35, 77],\n",
       "         [87, 95, 33, 45],\n",
       "         [91, 14, 45, 42],\n",
       "         [34, 95, 55, 18]]],\n",
       "\n",
       "\n",
       "       [[[73, 13, 85, 43],\n",
       "         [31, 14, 80, 48],\n",
       "         [33, 85, 83, 82],\n",
       "         [77, 58, 10, 52]],\n",
       "\n",
       "        [[28,  8, 97, 89],\n",
       "         [51, 54, 42, 92],\n",
       "         [15,  0, 82, 48],\n",
       "         [44,  9, 46, 56]]]])"
      ]
     },
     "execution_count": 35,
     "metadata": {},
     "output_type": "execute_result"
    }
   ],
   "source": [
    "ar2[:, :, :, :4]"
   ]
  },
  {
   "cell_type": "markdown",
   "id": "fc5f22cd-cdc4-41d0-9e2d-06f7e13c7e1f",
   "metadata": {},
   "source": [
    "# Manipulating and comparing numpy arrays"
   ]
  },
  {
   "cell_type": "code",
   "execution_count": 36,
   "id": "4e9fe40c-3ccb-4bc6-beb1-61df03f1c3ad",
   "metadata": {},
   "outputs": [
    {
     "data": {
      "text/plain": [
       "array([1, 2, 3])"
      ]
     },
     "execution_count": 36,
     "metadata": {},
     "output_type": "execute_result"
    }
   ],
   "source": [
    "a1"
   ]
  },
  {
   "cell_type": "code",
   "execution_count": 37,
   "id": "eea52ba8-7234-4d7a-8393-fcf9e0e20d44",
   "metadata": {},
   "outputs": [
    {
     "data": {
      "text/plain": [
       "array([1., 1., 1.])"
      ]
     },
     "execution_count": 37,
     "metadata": {},
     "output_type": "execute_result"
    }
   ],
   "source": [
    "ones = np.ones([3])\n",
    "ones"
   ]
  },
  {
   "cell_type": "code",
   "execution_count": 38,
   "id": "572252a0-a28d-41aa-a47d-a4bd4bccc2b1",
   "metadata": {},
   "outputs": [
    {
     "data": {
      "text/plain": [
       "array([2., 3., 4.])"
      ]
     },
     "execution_count": 38,
     "metadata": {},
     "output_type": "execute_result"
    }
   ],
   "source": [
    "a1 + ones"
   ]
  },
  {
   "cell_type": "code",
   "execution_count": 39,
   "id": "a63e5a70-a27c-4406-960a-6077232ba360",
   "metadata": {},
   "outputs": [
    {
     "data": {
      "text/plain": [
       "array([1., 2., 3.])"
      ]
     },
     "execution_count": 39,
     "metadata": {},
     "output_type": "execute_result"
    }
   ],
   "source": [
    "a1 * ones"
   ]
  },
  {
   "cell_type": "code",
   "execution_count": 40,
   "id": "d642717a-2fd6-4e03-9cb9-8d29a759e751",
   "metadata": {},
   "outputs": [
    {
     "data": {
      "text/plain": [
       "array([0., 1., 2.])"
      ]
     },
     "execution_count": 40,
     "metadata": {},
     "output_type": "execute_result"
    }
   ],
   "source": [
    "a1 - ones"
   ]
  },
  {
   "cell_type": "code",
   "execution_count": 41,
   "id": "ca88a087-ca41-40e2-b922-19021df737a1",
   "metadata": {},
   "outputs": [
    {
     "data": {
      "text/plain": [
       "array([0., 0., 0.])"
      ]
     },
     "execution_count": 41,
     "metadata": {},
     "output_type": "execute_result"
    }
   ],
   "source": [
    "a1 % ones"
   ]
  },
  {
   "cell_type": "code",
   "execution_count": 42,
   "id": "c3c48d67-fa68-4030-a90c-06f747a58412",
   "metadata": {},
   "outputs": [
    {
     "data": {
      "text/plain": [
       "array([1, 2, 3, 4])"
      ]
     },
     "execution_count": 42,
     "metadata": {},
     "output_type": "execute_result"
    }
   ],
   "source": [
    "a4=np.array([1,2,3,4])\n",
    "a4"
   ]
  },
  {
   "cell_type": "code",
   "execution_count": 43,
   "id": "b99d0a26-ff72-419c-9f96-e793ab75b4c4",
   "metadata": {},
   "outputs": [
    {
     "ename": "ValueError",
     "evalue": "operands could not be broadcast together with shapes (3,) (4,) ",
     "output_type": "error",
     "traceback": [
      "\u001b[1;31m---------------------------------------------------------------------------\u001b[0m",
      "\u001b[1;31mValueError\u001b[0m                                Traceback (most recent call last)",
      "Cell \u001b[1;32mIn[43], line 1\u001b[0m\n\u001b[1;32m----> 1\u001b[0m \u001b[43ma1\u001b[49m\u001b[43m \u001b[49m\u001b[38;5;241;43m*\u001b[39;49m\u001b[43m \u001b[49m\u001b[43ma4\u001b[49m\n",
      "\u001b[1;31mValueError\u001b[0m: operands could not be broadcast together with shapes (3,) (4,) "
     ]
    }
   ],
   "source": [
    "a1 * a4"
   ]
  },
  {
   "cell_type": "markdown",
   "id": "fbdf060e-db7e-430c-9b9f-d752929c3204",
   "metadata": {},
   "source": [
    "# Aggregation "
   ]
  },
  {
   "cell_type": "code",
   "execution_count": null,
   "id": "c793a30d-3fee-4d6d-ba51-9a2ed8e6e4fa",
   "metadata": {},
   "outputs": [],
   "source": [
    "list=[1,2,3,4]\n",
    "type(list)"
   ]
  },
  {
   "cell_type": "code",
   "execution_count": 44,
   "id": "9b6e26ab-f2ed-4ee3-bd2e-90e075b48332",
   "metadata": {},
   "outputs": [
    {
     "data": {
      "text/plain": [
       "numpy.ndarray"
      ]
     },
     "execution_count": 44,
     "metadata": {},
     "output_type": "execute_result"
    }
   ],
   "source": [
    "type(a1)"
   ]
  },
  {
   "cell_type": "code",
   "execution_count": 45,
   "id": "98b8cf75-e6d7-482c-b2f2-15f4d0d4c871",
   "metadata": {},
   "outputs": [
    {
     "data": {
      "text/plain": [
       "6"
      ]
     },
     "execution_count": 45,
     "metadata": {},
     "output_type": "execute_result"
    }
   ],
   "source": [
    "sum(a1)"
   ]
  },
  {
   "cell_type": "code",
   "execution_count": 46,
   "id": "76db818e-914e-4ea4-88bf-6449dea70c15",
   "metadata": {},
   "outputs": [
    {
     "data": {
      "text/plain": [
       "6"
      ]
     },
     "execution_count": 46,
     "metadata": {},
     "output_type": "execute_result"
    }
   ],
   "source": [
    "np.sum(a1)"
   ]
  },
  {
   "cell_type": "code",
   "execution_count": 47,
   "id": "69e83f81-63a2-4e06-870a-e0af4a3d234d",
   "metadata": {},
   "outputs": [],
   "source": [
    "mas = np.random.random(1000)"
   ]
  },
  {
   "cell_type": "code",
   "execution_count": 48,
   "id": "0de68896-6416-4cb8-a711-b88ed280649d",
   "metadata": {},
   "outputs": [
    {
     "data": {
      "text/plain": [
       "array([0.42705349, 0.13457046, 0.33135721, 0.59034585, 0.94066139,\n",
       "       0.99255772, 0.24160292, 0.01057991, 0.83064033, 0.92661294])"
      ]
     },
     "execution_count": 48,
     "metadata": {},
     "output_type": "execute_result"
    }
   ],
   "source": [
    "mas[:10]"
   ]
  },
  {
   "cell_type": "code",
   "execution_count": 49,
   "id": "ddc8acfa-586c-47e6-9508-de3b21ac83f6",
   "metadata": {},
   "outputs": [
    {
     "name": "stdout",
     "output_type": "stream",
     "text": [
      "5.28 µs ± 462 ns per loop (mean ± std. dev. of 7 runs, 100,000 loops each)\n"
     ]
    }
   ],
   "source": [
    "%timeit np.sum(mas)"
   ]
  },
  {
   "cell_type": "code",
   "execution_count": 50,
   "id": "4b852597-e482-4b50-86e0-a576c8f94ce6",
   "metadata": {},
   "outputs": [
    {
     "name": "stdout",
     "output_type": "stream",
     "text": [
      "101 µs ± 1.92 µs per loop (mean ± std. dev. of 7 runs, 10,000 loops each)\n"
     ]
    }
   ],
   "source": [
    "%timeit sum(mas)"
   ]
  },
  {
   "cell_type": "code",
   "execution_count": 51,
   "id": "6e220986-d42a-4839-a1a5-0961ebc8a0da",
   "metadata": {},
   "outputs": [
    {
     "data": {
      "text/plain": [
       "0.4931466692225196"
      ]
     },
     "execution_count": 51,
     "metadata": {},
     "output_type": "execute_result"
    }
   ],
   "source": [
    "np.mean(mas)"
   ]
  },
  {
   "cell_type": "code",
   "execution_count": 52,
   "id": "dbb3b022-033f-47f0-98a2-6b026356840a",
   "metadata": {},
   "outputs": [
    {
     "data": {
      "text/plain": [
       "0.28987078514024234"
      ]
     },
     "execution_count": 52,
     "metadata": {},
     "output_type": "execute_result"
    }
   ],
   "source": [
    "np.std(mas)"
   ]
  },
  {
   "cell_type": "code",
   "execution_count": 53,
   "id": "0780a293-8c3c-403f-951d-64e6197a99b4",
   "metadata": {},
   "outputs": [
    {
     "data": {
      "text/plain": [
       "0.08402507207782055"
      ]
     },
     "execution_count": 53,
     "metadata": {},
     "output_type": "execute_result"
    }
   ],
   "source": [
    "np.var(mas)"
   ]
  },
  {
   "cell_type": "code",
   "execution_count": 54,
   "id": "fae96cfc-07e7-42fb-934f-0e07c08d41f9",
   "metadata": {},
   "outputs": [],
   "source": [
    "high=np.array([1,100,200,300,4000,5000])\n",
    "low=np.array([1,2,3,4,5,6])"
   ]
  },
  {
   "cell_type": "code",
   "execution_count": 55,
   "id": "b142f6b7-8c71-4724-a4e5-0b192845d564",
   "metadata": {},
   "outputs": [
    {
     "data": {
      "text/plain": [
       "4296133.472222221"
      ]
     },
     "execution_count": 55,
     "metadata": {},
     "output_type": "execute_result"
    }
   ],
   "source": [
    "np.var(high)"
   ]
  },
  {
   "cell_type": "code",
   "execution_count": 56,
   "id": "38b3494d-8441-4a0f-b592-1e1f383743ec",
   "metadata": {},
   "outputs": [
    {
     "data": {
      "text/plain": [
       "2.9166666666666665"
      ]
     },
     "execution_count": 56,
     "metadata": {},
     "output_type": "execute_result"
    }
   ],
   "source": [
    "np.var(low)"
   ]
  },
  {
   "cell_type": "code",
   "execution_count": 57,
   "id": "df51c2a9-48ab-4a2b-a7a9-fa0619f94772",
   "metadata": {},
   "outputs": [
    {
     "data": {
      "image/png": "[encoded data removed]",
      "text/plain": [
       "<Figure size 640x480 with 1 Axes>"
      ]
     },
     "metadata": {},
     "output_type": "display_data"
    }
   ],
   "source": [
    "import matplotlib.pyplot as plt\n",
    "plt.hist(high)\n",
    "plt.show()"
   ]
  },
  {
   "cell_type": "code",
   "execution_count": 58,
   "id": "ea32b9e1-0f2d-443a-a86d-20dfb907afa0",
   "metadata": {},
   "outputs": [
    {
     "data": {
      "image/png": "[encoded data removed]",
      "text/plain": [
       "<Figure size 640x480 with 1 Axes>"
      ]
     },
     "metadata": {},
     "output_type": "display_data"
    }
   ],
   "source": [
    "plt.hist(low)\n",
    "plt.show()"
   ]
  },
  {
   "cell_type": "code",
   "execution_count": 59,
   "id": "b03b22d1-a8f8-4008-9b48-ff201cfb698e",
   "metadata": {},
   "outputs": [
    {
     "data": {
      "text/plain": [
       "(array([[ 1,  2,  3],\n",
       "        [10, 20, 30]]),\n",
       " array([1, 2, 3, 4]))"
      ]
     },
     "execution_count": 59,
     "metadata": {},
     "output_type": "execute_result"
    }
   ],
   "source": [
    "a2 , a4"
   ]
  },
  {
   "cell_type": "code",
   "execution_count": 60,
   "id": "829251f6-5460-4edd-8a3c-de47a8aea565",
   "metadata": {},
   "outputs": [
    {
     "data": {
      "text/plain": [
       "((2, 3), (4,))"
      ]
     },
     "execution_count": 60,
     "metadata": {},
     "output_type": "execute_result"
    }
   ],
   "source": [
    "a2.shape, a4.shape"
   ]
  },
  {
   "cell_type": "code",
   "execution_count": 61,
   "id": "e051d438-d3b3-4641-9008-f73c55d3dbb7",
   "metadata": {},
   "outputs": [
    {
     "ename": "ValueError",
     "evalue": "operands could not be broadcast together with shapes (2,3) (4,) ",
     "output_type": "error",
     "traceback": [
      "\u001b[1;31m---------------------------------------------------------------------------\u001b[0m",
      "\u001b[1;31mValueError\u001b[0m                                Traceback (most recent call last)",
      "Cell \u001b[1;32mIn[61], line 1\u001b[0m\n\u001b[1;32m----> 1\u001b[0m \u001b[43ma2\u001b[49m\u001b[43m \u001b[49m\u001b[38;5;241;43m*\u001b[39;49m\u001b[43m \u001b[49m\u001b[43ma4\u001b[49m\n",
      "\u001b[1;31mValueError\u001b[0m: operands could not be broadcast together with shapes (2,3) (4,) "
     ]
    }
   ],
   "source": [
    "a2 * a4"
   ]
  },
  {
   "cell_type": "code",
   "execution_count": null,
   "id": "d22a9965-2808-4e8c-94fd-0d1f442335f8",
   "metadata": {},
   "outputs": [],
   "source": [
    "a2 = a2.reshape(2,3,1)"
   ]
  },
  {
   "cell_type": "code",
   "execution_count": null,
   "id": "808c10f4-85e8-4ecb-a124-2cb28a1dd710",
   "metadata": {},
   "outputs": [],
   "source": [
    "a2"
   ]
  },
  {
   "cell_type": "code",
   "execution_count": null,
   "id": "20bd9196-eefd-41f2-9ab2-0f1644cd39ef",
   "metadata": {},
   "outputs": [],
   "source": [
    "a2 * a4"
   ]
  },
  {
   "cell_type": "code",
   "execution_count": null,
   "id": "f85c8e93-c68a-4db8-81d7-386188dd8b8e",
   "metadata": {},
   "outputs": [],
   "source": [
    "a2.shape , a4.shape"
   ]
  },
  {
   "cell_type": "code",
   "execution_count": null,
   "id": "fd13560b-b98a-48d5-8a2a-175808fcafb1",
   "metadata": {},
   "outputs": [],
   "source": [
    "a4 = np.random.randint(9,size=(2,3))"
   ]
  },
  {
   "cell_type": "code",
   "execution_count": null,
   "id": "4e4ebe25-b2fe-441d-8d60-96c560f546dd",
   "metadata": {},
   "outputs": [],
   "source": [
    "a4"
   ]
  },
  {
   "cell_type": "code",
   "execution_count": null,
   "id": "3b3a6817-ecb9-4c03-8de8-6e3fd8e5793e",
   "metadata": {},
   "outputs": [],
   "source": [
    "np.dot(a2,a4.T)"
   ]
  },
  {
   "cell_type": "markdown",
   "id": "fda45c01-d15b-4b53-b1ae-dbd549baad00",
   "metadata": {},
   "source": [
    "# Dot product example(nut butter sales)"
   ]
  },
  {
   "cell_type": "code",
   "execution_count": 74,
   "id": "7454dc90-8818-446a-a733-c28f1e8c26a1",
   "metadata": {},
   "outputs": [
    {
     "data": {
      "text/plain": [
       "array([[18, 16, 12],\n",
       "       [ 0,  6, 16],\n",
       "       [19,  5,  7],\n",
       "       [10, 15, 11],\n",
       "       [ 6,  3, 17]])"
      ]
     },
     "execution_count": 74,
     "metadata": {},
     "output_type": "execute_result"
    }
   ],
   "source": [
    "sales_amount = np.random.randint(20, size=(5,3))\n",
    "sales_amount"
   ]
  },
  {
   "cell_type": "code",
   "execution_count": 75,
   "id": "1e81622b-ae86-4556-90b4-adf9a1d0260d",
   "metadata": {},
   "outputs": [],
   "source": [
    "sales = pd.DataFrame(sales_amount, index = [\"Mon\", \"tus\", \"wed\", \"thru\", \"fri\"], columns = [\"Almond Butter\", \"Peanut Butter\", \"Cashew Butter\"])"
   ]
  },
  {
   "cell_type": "code",
   "execution_count": 76,
   "id": "fdb4b4a9-6392-45c1-baac-20e0e60b59e6",
   "metadata": {},
   "outputs": [
    {
     "data": {
      "text/html": [
       "<div>\n",
       "<style scoped>\n",
       "    .dataframe tbody tr th:only-of-type {\n",
       "        vertical-align: middle;\n",
       "    }\n",
       "\n",
       "    .dataframe tbody tr th {\n",
       "        vertical-align: top;\n",
       "    }\n",
       "\n",
       "    .dataframe thead th {\n",
       "        text-align: right;\n",
       "    }\n",
       "</style>\n",
       "<table border=\"1\" class=\"dataframe\">\n",
       "  <thead>\n",
       "    <tr style=\"text-align: right;\">\n",
       "      <th></th>\n",
       "      <th>Almond Butter</th>\n",
       "      <th>Peanut Butter</th>\n",
       "      <th>Cashew Butter</th>\n",
       "    </tr>\n",
       "  </thead>\n",
       "  <tbody>\n",
       "    <tr>\n",
       "      <th>Mon</th>\n",
       "      <td>18</td>\n",
       "      <td>16</td>\n",
       "      <td>12</td>\n",
       "    </tr>\n",
       "    <tr>\n",
       "      <th>tus</th>\n",
       "      <td>0</td>\n",
       "      <td>6</td>\n",
       "      <td>16</td>\n",
       "    </tr>\n",
       "    <tr>\n",
       "      <th>wed</th>\n",
       "      <td>19</td>\n",
       "      <td>5</td>\n",
       "      <td>7</td>\n",
       "    </tr>\n",
       "    <tr>\n",
       "      <th>thru</th>\n",
       "      <td>10</td>\n",
       "      <td>15</td>\n",
       "      <td>11</td>\n",
       "    </tr>\n",
       "    <tr>\n",
       "      <th>fri</th>\n",
       "      <td>6</td>\n",
       "      <td>3</td>\n",
       "      <td>17</td>\n",
       "    </tr>\n",
       "  </tbody>\n",
       "</table>\n",
       "</div>"
      ],
      "text/plain": [
       "      Almond Butter  Peanut Butter  Cashew Butter\n",
       "Mon              18             16             12\n",
       "tus               0              6             16\n",
       "wed              19              5              7\n",
       "thru             10             15             11\n",
       "fri               6              3             17"
      ]
     },
     "execution_count": 76,
     "metadata": {},
     "output_type": "execute_result"
    }
   ],
   "source": [
    "sales"
   ]
  },
  {
   "cell_type": "code",
   "execution_count": 77,
   "id": "e745d481-d5b4-4d31-91f5-06f2d86d2f31",
   "metadata": {},
   "outputs": [
    {
     "data": {
      "text/plain": [
       "(5, 3)"
      ]
     },
     "execution_count": 77,
     "metadata": {},
     "output_type": "execute_result"
    }
   ],
   "source": [
    "sales.shape"
   ]
  },
  {
   "cell_type": "code",
   "execution_count": 78,
   "id": "8d8841f0-71d4-4dd0-9e75-7ecfcb01d39c",
   "metadata": {},
   "outputs": [
    {
     "data": {
      "text/plain": [
       "array([10, 20, 30])"
      ]
     },
     "execution_count": 78,
     "metadata": {},
     "output_type": "execute_result"
    }
   ],
   "source": [
    "prices = np.array([10,20,30])\n",
    "prices"
   ]
  },
  {
   "cell_type": "code",
   "execution_count": 79,
   "id": "1c851701-1377-423a-8f4a-397400b32991",
   "metadata": {},
   "outputs": [
    {
     "data": {
      "text/plain": [
       "(3,)"
      ]
     },
     "execution_count": 79,
     "metadata": {},
     "output_type": "execute_result"
    }
   ],
   "source": [
    "prices.shape "
   ]
  },
  {
   "cell_type": "code",
   "execution_count": 80,
   "id": "6517d0bc-cee2-40f2-a7ee-81a440fe32b9",
   "metadata": {},
   "outputs": [],
   "source": [
    "butter_prices = pd.DataFrame(prices.reshape(1,3), index = [\"price\"], columns= [\"Almond Butter\", \"Peanut Butter\", \"Cashew Butter\"])"
   ]
  },
  {
   "cell_type": "code",
   "execution_count": 81,
   "id": "9fb6527f-01ab-4fec-97cf-e84fde3035db",
   "metadata": {},
   "outputs": [
    {
     "data": {
      "text/html": [
       "<div>\n",
       "<style scoped>\n",
       "    .dataframe tbody tr th:only-of-type {\n",
       "        vertical-align: middle;\n",
       "    }\n",
       "\n",
       "    .dataframe tbody tr th {\n",
       "        vertical-align: top;\n",
       "    }\n",
       "\n",
       "    .dataframe thead th {\n",
       "        text-align: right;\n",
       "    }\n",
       "</style>\n",
       "<table border=\"1\" class=\"dataframe\">\n",
       "  <thead>\n",
       "    <tr style=\"text-align: right;\">\n",
       "      <th></th>\n",
       "      <th>Almond Butter</th>\n",
       "      <th>Peanut Butter</th>\n",
       "      <th>Cashew Butter</th>\n",
       "    </tr>\n",
       "  </thead>\n",
       "  <tbody>\n",
       "    <tr>\n",
       "      <th>price</th>\n",
       "      <td>10</td>\n",
       "      <td>20</td>\n",
       "      <td>30</td>\n",
       "    </tr>\n",
       "  </tbody>\n",
       "</table>\n",
       "</div>"
      ],
      "text/plain": [
       "       Almond Butter  Peanut Butter  Cashew Butter\n",
       "price             10             20             30"
      ]
     },
     "execution_count": 81,
     "metadata": {},
     "output_type": "execute_result"
    }
   ],
   "source": [
    "butter_prices"
   ]
  },
  {
   "cell_type": "code",
   "execution_count": 82,
   "id": "53373f97-3429-4163-9e12-deec29932e28",
   "metadata": {},
   "outputs": [],
   "source": [
    "total_sales = np.dot(prices, sales.T)"
   ]
  },
  {
   "cell_type": "code",
   "execution_count": 83,
   "id": "8def837e-dbcb-497c-9624-66e1ed160766",
   "metadata": {},
   "outputs": [
    {
     "data": {
      "text/plain": [
       "array([860, 600, 500, 730, 630])"
      ]
     },
     "execution_count": 83,
     "metadata": {},
     "output_type": "execute_result"
    }
   ],
   "source": [
    "total_sales"
   ]
  },
  {
   "cell_type": "code",
   "execution_count": 84,
   "id": "24d65ea7-48f8-4f56-8976-9e6aaa028754",
   "metadata": {},
   "outputs": [],
   "source": [
    "sales[\"Total ($)\"] = total_sales.T"
   ]
  },
  {
   "cell_type": "code",
   "execution_count": 85,
   "id": "e929a10f-1950-4dfe-8e68-f5b897589817",
   "metadata": {},
   "outputs": [
    {
     "data": {
      "text/html": [
       "<div>\n",
       "<style scoped>\n",
       "    .dataframe tbody tr th:only-of-type {\n",
       "        vertical-align: middle;\n",
       "    }\n",
       "\n",
       "    .dataframe tbody tr th {\n",
       "        vertical-align: top;\n",
       "    }\n",
       "\n",
       "    .dataframe thead th {\n",
       "        text-align: right;\n",
       "    }\n",
       "</style>\n",
       "<table border=\"1\" class=\"dataframe\">\n",
       "  <thead>\n",
       "    <tr style=\"text-align: right;\">\n",
       "      <th></th>\n",
       "      <th>Almond Butter</th>\n",
       "      <th>Peanut Butter</th>\n",
       "      <th>Cashew Butter</th>\n",
       "      <th>Total ($)</th>\n",
       "    </tr>\n",
       "  </thead>\n",
       "  <tbody>\n",
       "    <tr>\n",
       "      <th>Mon</th>\n",
       "      <td>18</td>\n",
       "      <td>16</td>\n",
       "      <td>12</td>\n",
       "      <td>860</td>\n",
       "    </tr>\n",
       "    <tr>\n",
       "      <th>tus</th>\n",
       "      <td>0</td>\n",
       "      <td>6</td>\n",
       "      <td>16</td>\n",
       "      <td>600</td>\n",
       "    </tr>\n",
       "    <tr>\n",
       "      <th>wed</th>\n",
       "      <td>19</td>\n",
       "      <td>5</td>\n",
       "      <td>7</td>\n",
       "      <td>500</td>\n",
       "    </tr>\n",
       "    <tr>\n",
       "      <th>thru</th>\n",
       "      <td>10</td>\n",
       "      <td>15</td>\n",
       "      <td>11</td>\n",
       "      <td>730</td>\n",
       "    </tr>\n",
       "    <tr>\n",
       "      <th>fri</th>\n",
       "      <td>6</td>\n",
       "      <td>3</td>\n",
       "      <td>17</td>\n",
       "      <td>630</td>\n",
       "    </tr>\n",
       "  </tbody>\n",
       "</table>\n",
       "</div>"
      ],
      "text/plain": [
       "      Almond Butter  Peanut Butter  Cashew Butter  Total ($)\n",
       "Mon              18             16             12        860\n",
       "tus               0              6             16        600\n",
       "wed              19              5              7        500\n",
       "thru             10             15             11        730\n",
       "fri               6              3             17        630"
      ]
     },
     "execution_count": 85,
     "metadata": {},
     "output_type": "execute_result"
    }
   ],
   "source": [
    "sales"
   ]
  },
  {
   "cell_type": "code",
   "execution_count": 86,
   "id": "1dbf6ed6-eec9-4e3e-a9f8-f116aaaac57e",
   "metadata": {},
   "outputs": [
    {
     "data": {
      "text/html": [
       "<div>\n",
       "<style scoped>\n",
       "    .dataframe tbody tr th:only-of-type {\n",
       "        vertical-align: middle;\n",
       "    }\n",
       "\n",
       "    .dataframe tbody tr th {\n",
       "        vertical-align: top;\n",
       "    }\n",
       "\n",
       "    .dataframe thead th {\n",
       "        text-align: right;\n",
       "    }\n",
       "</style>\n",
       "<table border=\"1\" class=\"dataframe\">\n",
       "  <thead>\n",
       "    <tr style=\"text-align: right;\">\n",
       "      <th></th>\n",
       "      <th>Almond Butter</th>\n",
       "      <th>Peanut Butter</th>\n",
       "      <th>Cashew Butter</th>\n",
       "    </tr>\n",
       "  </thead>\n",
       "  <tbody>\n",
       "    <tr>\n",
       "      <th>price</th>\n",
       "      <td>10</td>\n",
       "      <td>20</td>\n",
       "      <td>30</td>\n",
       "    </tr>\n",
       "  </tbody>\n",
       "</table>\n",
       "</div>"
      ],
      "text/plain": [
       "       Almond Butter  Peanut Butter  Cashew Butter\n",
       "price             10             20             30"
      ]
     },
     "execution_count": 86,
     "metadata": {},
     "output_type": "execute_result"
    }
   ],
   "source": [
    "butter_prices"
   ]
  },
  {
   "cell_type": "code",
   "execution_count": 95,
   "id": "9ec4dcf7-3a0e-47b8-badb-6c9b7e6def0c",
   "metadata": {},
   "outputs": [],
   "source": [
    "from matplotlib.image import imread"
   ]
  },
  {
   "cell_type": "code",
   "execution_count": 96,
   "id": "23e0ddae-c058-4572-8759-2688c51855e7",
   "metadata": {},
   "outputs": [
    {
     "data": {
      "text/plain": [
       "array([[[ 33,  28,  34],\n",
       "        [ 69,  62,  44],\n",
       "        [ 70,  61,  18],\n",
       "        ...,\n",
       "        [ 76, 143,  90],\n",
       "        [ 79, 146,  95],\n",
       "        [ 83, 150,  99]],\n",
       "\n",
       "       [[ 77,  76,  72],\n",
       "        [ 79,  77,  54],\n",
       "        [ 61,  58,  17],\n",
       "        ...,\n",
       "        [ 78, 141,  86],\n",
       "        [ 81, 144,  91],\n",
       "        [ 84, 146,  95]],\n",
       "\n",
       "       [[ 92,  95,  76],\n",
       "        [ 71,  74,  45],\n",
       "        [ 46,  51,  11],\n",
       "        ...,\n",
       "        [ 79, 138,  80],\n",
       "        [ 81, 140,  84],\n",
       "        [ 83, 142,  86]],\n",
       "\n",
       "       ...,\n",
       "\n",
       "       [[ 75, 129,  51],\n",
       "        [ 76, 130,  54],\n",
       "        [ 77, 131,  56],\n",
       "        ...,\n",
       "        [ 59,  83,  61],\n",
       "        [ 59,  83,  61],\n",
       "        [ 59,  83,  61]],\n",
       "\n",
       "       [[ 77, 131,  53],\n",
       "        [ 78, 132,  56],\n",
       "        [ 79, 133,  58],\n",
       "        ...,\n",
       "        [ 60,  84,  62],\n",
       "        [ 60,  84,  62],\n",
       "        [ 60,  84,  62]],\n",
       "\n",
       "       [[ 79, 133,  55],\n",
       "        [ 79, 133,  57],\n",
       "        [ 81, 135,  60],\n",
       "        ...,\n",
       "        [ 61,  85,  63],\n",
       "        [ 61,  85,  63],\n",
       "        [ 61,  85,  63]]], dtype=uint8)"
      ]
     },
     "execution_count": 96,
     "metadata": {},
     "output_type": "execute_result"
    }
   ],
   "source": [
    "panda2 = imread(\"pandas.jpg\")\n",
    "panda2"
   ]
  },
  {
   "cell_type": "markdown",
   "id": "a347a948-6d74-4a8d-adc5-161de1b63386",
   "metadata": {},
   "source": [
    "<img src=\"pandas.jpg\"/>"
   ]
  },
  {
   "cell_type": "code",
   "execution_count": null,
   "id": "d242bd14-802e-4aaa-8589-8429ae61814d",
   "metadata": {},
   "outputs": [],
   "source": []
  }
 ],
 "metadata": {
  "kernelspec": {
   "display_name": "Python 3 (ipykernel)",
   "language": "python",
   "name": "python3"
  },
  "language_info": {
   "codemirror_mode": {
    "name": "ipython",
    "version": 3
   },
   "file_extension": ".py",
   "mimetype": "text/x-python",
   "name": "python",
   "nbconvert_exporter": "python",
   "pygments_lexer": "ipython3",
   "version": "3.12.3"
  }
 },
 "nbformat": 4,
 "nbformat_minor": 5
}
